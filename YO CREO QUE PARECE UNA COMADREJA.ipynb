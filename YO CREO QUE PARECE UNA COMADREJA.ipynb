{
 "cells": [
  {
   "cell_type": "code",
   "execution_count": null,
   "metadata": {
    "collapsed": true
   },
   "outputs": [],
   "source": [
    "def cuadrado(n):\n",
    "    return n**2"
   ]
  },
  {
   "cell_type": "code",
   "execution_count": null,
   "metadata": {
    "collapsed": true
   },
   "outputs": [],
   "source": [
    "cuadrado(4)\n"
   ]
  },
  {
   "cell_type": "code",
   "execution_count": null,
   "metadata": {
    "collapsed": true
   },
   "outputs": [],
   "source": [
    "import math\n",
    "math.pi\n"
   ]
  },
  {
   "cell_type": "code",
   "execution_count": null,
   "metadata": {
    "collapsed": true
   },
   "outputs": [],
   "source": [
    "import string\n",
    "print(string.ascii_letters)"
   ]
  },
  {
   "cell_type": "code",
   "execution_count": null,
   "metadata": {
    "collapsed": true
   },
   "outputs": [],
   "source": [
    "import random\n",
    "\n",
    "lista = [2, 190, False, \"hola\", \"pelota\", 123]\n",
    "random.choice(lista) \n",
    "cadena = \"\"\n"
   ]
  },
  {
   "cell_type": "code",
   "execution_count": null,
   "metadata": {
    "collapsed": true
   },
   "outputs": [],
   "source": [
    "cadena = \"\"\n",
    "letrasyespacio = string.ascii_letters + \" \"\n",
    "while True:\n",
    "    letra  = random.choice(letrasyespacio)\n",
    "    cadena = cadena + letra\n",
    "    if letra == \" \": # Se sale cuando la letra sea un espacio\n",
    "        break\n",
    "print(cadena)"
   ]
  },
  {
   "cell_type": "code",
   "execution_count": 403,
   "metadata": {
    "collapsed": true
   },
   "outputs": [],
   "source": [
    "# Otro algoritmto para probar un mensaje objetivo\n",
    "# asignacio e inicialización de variables\n",
    "msjObjetivo = \"Mi Bamban\"\n",
    "n = len(msjObjetivo)\n",
    "cadena = \"\"\n",
    "i = 0\n",
    "letrasMasParecidas = \"000000000\"\n",
    "laMasParecida = \"000000000\"\n"
   ]
  },
  {
   "cell_type": "code",
   "execution_count": null,
   "metadata": {
    "collapsed": true
   },
   "outputs": [],
   "source": [
    "# Aqui recorremos un while de 1 hasta 10\n",
    "\n",
    "while i < n:\n",
    "    letra  = random.choice(letrasyespacio)\n",
    "    cadena = cadena + letra\n",
    "    i = i + 1\n",
    "print(cadena)"
   ]
  },
  {
   "cell_type": "code",
   "execution_count": 461,
   "metadata": {},
   "outputs": [],
   "source": [
    "# Definimos una funcion para generar la cadena de caracteres\n",
    "# Recibe las letras que se parecen y la frase ya generada\n",
    "def genCadena(cadena1, cadena2):   \n",
    "    # Recibe dos string; cadena1 y cadena2: cadena1 son las letras parecidas y cadena dos es cadena generada\n",
    "    n = len(cadena1)\n",
    "    i = 0\n",
    "    cadena = \"\"   # La cadena a regresar\n",
    "    while i < n:\n",
    "        if cadena1[i] == \"0\": # Genera una letra\n",
    "            letra  = random.choice(letrasyespacio) # selecciona aleatoriamente un aletra del conjunto original\n",
    "            cadena = cadena + letra\n",
    "        else: # De lo contrario asignar el valor de la posición de cadena que ya tienen la letra correcta en esa pos...\n",
    "            cadena = cadena + cadena2[i]    \n",
    "        i = i + 1\n",
    "    return cadena\n",
    "\n",
    "# definimos una función para comparar la cadena generada con el mensaje objetivo\n",
    "def compCadena(cadena1, cadena2):\n",
    "    if cadena1 == cadena2:\n",
    "        return True\n",
    "    else:\n",
    "        return False\n",
    "    \n",
    "# Esta función genera y compara la cadena de carateres mil veces\n",
    "# Además devuelve una matriz de los parecidos de los valores generados con la cadena inicial\n",
    "# def llenarMatriz(cadena1, cadena2, msjObjetivo): # Recibe las letras que se parecen; la frase ya generada y frase objetivo\n",
    "def llenarMatriz(cadena1, cadena2, msjObjetivo):\n",
    "    n = 1000\n",
    "    m = 3\n",
    "    matriz = [] # Matriz vacía de 1000 filas por 3 columnas\n",
    "    for i in range(0,1000):\n",
    "        cadena = genCadena(cadena1, cadena2) \n",
    "     #   print(cadena)\n",
    "     #   print(compCadena(cadena, msjObjetivo))\n",
    "     #   print(cuantoSeParecen(cadena, msjObjetivo))\n",
    "        matriz.append([])\n",
    "        matriz[i].append(cadena)  # Primer columna\n",
    "        matriz[i].append(compCadena(cadena, msjObjetivo)) # Segunda columna\n",
    "        matriz[i].append(cuantoSeParecen(cadena, msjObjetivo)) # Tercer columna\n",
    "\n",
    "    return matriz\n",
    "    \n",
    "# Para encontrar la cadena generada aleatoriamente que mas seprece a la expresion msjObjetivo\n",
    "# Haremos una funcion que devuelve cuanto se parece la cadena generada aleatoriamente\n",
    "# La función recorrerar por medio de un bucle todos los caracteres de la cadena1 y la cadena 2\n",
    "# Si el caracter es igual en la posición del índice de ambas cadenas se devuelve acumula 1/ len(msjObjetivo)\n",
    "# Si hay 3 caracteres que se parecen entonces el parecido será de 3/(msjObjetivo)\n",
    "# El porcentaje es porque solo hay n caracteres.\n",
    "# De tal manera que si la cadena es completamente igual entonces el valor devuelto seá de 1  \n",
    "def cuantoSeParecen(cadena, msjObjetivo):\n",
    "    parecido = 0\n",
    "    n = len(msjObjetivo)  # msjObjetivo\n",
    "    for i in range(0,n): # Recordemos que n vale el número de caracteres de la cadena objetivo que son 9 rango(0,8)\n",
    "        if cadena[i] == msjObjetivo[i]:\n",
    "            parecido = parecido + (1 / len(msjObjetivo))\n",
    "    return parecido\n",
    "\n",
    "# Cuales son las posiciones que más se parecen en este caso que son iguales\n",
    "# Fnción que devuelve en cuales posiciones son las mas parecidas de la cadena\n",
    "# La cadena son el mensaje generado o las letras generadas\n",
    "# El msjObjetivo es el mensaje objetivo\n",
    "def idxMasParecidas(cadena, msjObjetivo):\n",
    "        indices = \"\"\n",
    "        for i in range(0,len(cadena) ):\n",
    "            if cadena[i] == msjObjetivo[i]:\n",
    "                indices = indices + \"1\"\n",
    "            else:\n",
    "                indices = indices + \"0\"\n",
    "        return indices"
   ]
  },
  {
   "cell_type": "code",
   "execution_count": 418,
   "metadata": {},
   "outputs": [
    {
     "name": "stdout",
     "output_type": "stream",
     "text": [
      "nXJYxyEmP\n"
     ]
    }
   ],
   "source": [
    "cadena = genCadena(\"000000000\", letrasMasParecidas)\n",
    "print(cadena)\n",
    "\n",
    "\n",
    "#cadena = genCadena(\"letrasMasParecidas\")\n",
    "#print(cadena)\n",
    "\n",
    "\n",
    "#print(compCadena(cadena, msjObjetivo))\n",
    "#print(cuantoSeParecen(cadena, msjObjetivo))"
   ]
  },
  {
   "cell_type": "code",
   "execution_count": 462,
   "metadata": {},
   "outputs": [
    {
     "name": "stdout",
     "output_type": "stream",
     "text": [
      "['ukINvbXvoDzxqZkTOQcUtc  axIRvtfoiHwwdzOmotrp ekBe QSQPq', False, 0.1090909090909091]\n",
      "ukINvbXvoDzxqZkTOQcUtc  axIRvtfoiHwwdzOmotrp ekBe QSQPq\n",
      "0000000010000000000000101000000000000000000011000100000\n",
      "['YuXpqnTHo RjB yOClLmIN JanaIuqnM UYYgAOomppV enTr znJNf', False, 0.21818181818181823]\n",
      "YuXpqnTHo RjB yOClLmIN JanaIuqnM UYYgAOomppV enTr znJNf\n",
      "1001000011000100000000101010000000000000100011000100000\n",
      "['YocpmPgto iHj SDMnY Rp aaUaIXWjnwjrUyKfBmNPd eKOn FVxnJ', False, 0.30909090909090914]\n",
      "YocpmPgto iHj SDMnY Rp aaUaIXWjnwjrUyKfBmNPd eKOn FVxnJ\n",
      "1101000011000100000100101010000100001000100011000110000\n",
      "['YoKpioCno CNg bfjbR sW vaBalLRPnBinRyFiYmNza eZiE FMFOD', False, 0.3818181818181819]\n",
      "YoKpioCno CNg bfjbR sW vaBalLRPnBinRyFiYmNza eZiE FMFOD\n",
      "1101100011000100000110111010000101001000100011000110000\n",
      "['Yoxpifnlo bSq YaFzn se vaOaYQHdnmir yZQameqe eNNi FiGOj', False, 0.47272727272727283]\n",
      "Yoxpifnlo bSq YaFzn se vaOaYQHdnmir yZQameqe eNNi FiGOj\n",
      "1101101011000100001111111010000101011001100011000110000\n",
      "['Yo pienKo fVi KFdBn se vaFaxDuXnfia ygKamwau eGPN FyyCa', False, 0.5454545454545455]\n",
      "Yo pienKo fVi KFdBn se vaFaxDuXnfia ygKamwau eGPN FyyCa\n",
      "1111111011000100001111111010000101111001101011000110000\n",
      "['Yo pienlo ruK ubbYn se vaFaiFPtnBia yujamRaR eqxe FXlKy', False, 0.6181818181818183]\n",
      "Yo pienlo ruK ubbYn se vaFaiFPtnBia yujamRaR eqxe FXlKy\n",
      "1111111011010100101111111010100101111001101011000110100\n",
      "['Yo pienso quc MibYn se vagaKFhGnqia ypHamlaD eztm FmlqQ', False, 0.6727272727272728]\n",
      "Yo pienso quc MibYn se vagaKFhGnqia ypHamlaD eztm FmlqQ\n",
      "1111111111110100101111111010100101111001101011010110100\n",
      "['Yo pienso quJ BCben se vaZa FBanSia yCbameaL eNta FAlBm', False, 0.7454545454545456]\n",
      "Yo pienso quJ BCben se vaZa FBanSia yCbameaL eNta FAlBm\n",
      "1111111111110100111111111011101101111001101011011110100\n",
      "['Yo pienso qux Xrben se vaqa FSancia yzKamraD eota Felhz', False, 0.8000000000000002]\n",
      "Yo pienso qux Xrben se vaqa FSancia yzKamraD eota Felhz\n",
      "1111111111110100111111111011101111111001101011011111101\n",
      "['Yo pienso quO nbben se vaHa Faancia y BamTaC ecta FelRz', False, 0.8363636363636365]\n",
      "Yo pienso quO nbben se vaHa Faancia y BamTaC ecta FelRz\n",
      "1111111111110100111111111011101111111111101011011111101\n",
      "['Yo pienso quV kuben se vada Fiancia y Bambaf ekta FelLz', False, 0.8727272727272729]\n",
      "Yo pienso quV kuben se vada Fiancia y Bambaf ekta FelLz\n",
      "1111111111110101111111111011101111111111111011011111101\n",
      "['Yo pienso que yuben se vaoa FQancia y Bambam ewta FelAz', False, 0.9090909090909093]\n",
      "Yo pienso que yuben se vaoa FQancia y Bambam ewta FelAz\n",
      "1111111111111101111111111011101111111111111111011111101\n",
      "['Yo pienso que Tuben se va a Fnancia y Bambam esta Felwz', False, 0.9454545454545457]\n",
      "Yo pienso que Tuben se va a Fnancia y Bambam esta Felwz\n",
      "1111111111111101111111111111101111111111111111111111101\n",
      "['Yo pienso que Ruben se va a Francia y Bambam esta FelIz', False, 0.981818181818182]\n",
      "Yo pienso que Ruben se va a Francia y Bambam esta FelIz\n",
      "1111111111111111111111111111111111111111111111111111101\n",
      "['Yo pienso que Ruben se va a Francia y Bambam esta Feliz', True, 1.0000000000000002]\n",
      "Yo pienso que Ruben se va a Francia y Bambam esta Feliz\n",
      "1111111111111111111111111111111111111111111111111111111\n",
      "Terminamos, al fin ... \n"
     ]
    }
   ],
   "source": [
    "# Determina el mejor parecido\n",
    "from operator import itemgetter\n",
    "# asignación e inicialización de variables\n",
    "msjObjetivo = \"Yo pienso que Ruben se va a Francia y Bambam esta Feliz\"\n",
    "letrasMasParecidas = \"\"\n",
    "laMasParecida = \"\"\n",
    "terminar = \"\"\n",
    "letrasyespacio = string.ascii_letters + \" \"\n",
    "\n",
    "for i in range(len(msjObjetivo)):\n",
    "    letrasMasParecidas = letrasMasParecidas + \"0\"\n",
    "    laMasParecida = laMasParecida + \"0\"\n",
    "    terminar = terminar + \"1\"\n",
    "\n",
    "\n",
    "while True:\n",
    "    parecidos = llenarMatriz(letrasMasParecidas, laMasParecida, msjObjetivo)\n",
    "\n",
    "    # Imprimir la matriz\n",
    "    # for i in range(1000):\n",
    "    #    print(parecidos[i])\n",
    "    \n",
    "    # Ordenar la matriz    \n",
    "    parecidos = sorted(parecidos, key=itemgetter(2), reverse=True)  # Ordenar por la culumna 2\n",
    "    print(parecidos[0]) # La mas parecida\n",
    "\n",
    "\n",
    "    # Ahora bien toda vez que se tiene la cadena más parecida.\n",
    "    # Guardarla\n",
    "    laMasParecida  = parecidos[0][0]\n",
    "    print(laMasParecida)  # La cadena mas parecida después de mil intentos\n",
    "\n",
    "    letrasMasParecidas = idxMasParecidas(laMasParecida, msjObjetivo )\n",
    "    print(letrasMasParecidas)\n",
    "    \n",
    "    if letrasMasParecidas == terminar: # O lo que es lo mismo si ya se cumplio el objetivo slir\n",
    "        break\n",
    "print(\"Terminamos, al fin ... \")        \n",
    "\n",
    "\n"
   ]
  },
  {
   "cell_type": "code",
   "execution_count": 447,
   "metadata": {},
   "outputs": [
    {
     "data": {
      "text/plain": [
       "0.5"
      ]
     },
     "execution_count": 447,
     "metadata": {},
     "output_type": "execute_result"
    }
   ],
   "source": [
    "cuantoSeParecen(\"Hola\", \"Sala\")"
   ]
  },
  {
   "cell_type": "code",
   "execution_count": 460,
   "metadata": {},
   "outputs": [
    {
     "name": "stdout",
     "output_type": "stream",
     "text": [
      "Y\n",
      "o\n",
      " \n",
      "p\n",
      "i\n",
      "e\n",
      "n\n",
      "s\n",
      "o\n",
      " \n",
      "q\n",
      "u\n",
      "e\n",
      " \n",
      "R\n",
      "u\n",
      "b\n",
      "e\n",
      "n\n",
      " \n",
      "s\n",
      "e\n",
      " \n",
      "v\n",
      "a\n",
      " \n",
      "a\n",
      " \n",
      "F\n",
      "r\n",
      "a\n",
      "n\n",
      "c\n",
      "i\n",
      "a\n",
      " \n",
      "y\n",
      " \n",
      "B\n",
      "a\n",
      "m\n",
      "b\n",
      "a\n",
      "m\n",
      " \n",
      "e\n",
      "s\n",
      "t\n",
      "a\n",
      " \n",
      "F\n",
      "e\n",
      "l\n",
      "i\n",
      "z\n"
     ]
    }
   ],
   "source": [
    "# Probando for\n",
    "msjObjetivo\n",
    "for i in msjObjetivo:\n",
    "    print(i)\n"
   ]
  },
  {
   "cell_type": "code",
   "execution_count": null,
   "metadata": {},
   "outputs": [],
   "source": []
  }
 ],
 "metadata": {
  "kernelspec": {
   "display_name": "Python 3",
   "language": "python",
   "name": "python3"
  },
  "language_info": {
   "codemirror_mode": {
    "name": "ipython",
    "version": 3
   },
   "file_extension": ".py",
   "mimetype": "text/x-python",
   "name": "python",
   "nbconvert_exporter": "python",
   "pygments_lexer": "ipython3",
   "version": "3.7.3"
  }
 },
 "nbformat": 4,
 "nbformat_minor": 2
}
